{
 "cells": [
  {
   "cell_type": "markdown",
   "id": "cfcf68f6",
   "metadata": {},
   "source": [
    "## Reproduction of Knowledge Source Integration on Medical Code Prediction"
   ]
  },
  {
   "cell_type": "markdown",
   "id": "5851134d",
   "metadata": {},
   "source": [
    "This bonus Jupyter Notebook was created solely by Robert Zhang (ruihaoz2@illinois.edu), my teammate Hannah Ke agreed to abandon this bonus task."
   ]
  },
  {
   "cell_type": "markdown",
   "id": "7bb79682",
   "metadata": {},
   "source": [
    "### 1. Reproducibility Summary"
   ]
  },
  {
   "cell_type": "markdown",
   "id": "a7752881",
   "metadata": {},
   "source": [
    "The original paper proposed a framework called Knowledge Source Integration (KSI) for improving the automatic assignment of ICD-9 diagnosis codes to clinical notes. The KSI framework incorporated external knowledge sources, such as Wikipedia, into the training process of neural network models. The reproducibility project aimed to replicate the original study's findings and evaluate the performance of the KSI framework using the MIMIC-III dataset.\n",
    "\n",
    "The report described the methodology used to replicate the original study, including data preprocessing, model descriptions, and hyperparameter tuning. The authors successfully reproduced the KSI model and demonstrated its effectiveness in improving code prediction accuracy. They compared the performance of KSI models with CNN and LSTM to their respective baseline models without external knowledge integration. The results showed that the KSI models outperformed the baseline models, achieving a 3% increase in accuracy.\n",
    "\n",
    "The report also discussed the challenges faced during reproduction, such as data preprocessing complexities and the difficulty of reproducing the model structure. Recommendations for improving reproducibility included documenting the random seed initialization, providing detailed documentation and instructions, and parameterizing hyperparameters for easier experimentation.\n",
    "\n",
    "In addition, the authors of the reproducibility report communicated with the original authors to clarify certain aspects of the study and ensure a transparent exchange of information. Overall, the report confirms the reproducibility of the original study's findings and highlights the effectiveness of the KSI framework in improving medical code prediction."
   ]
  },
  {
   "cell_type": "markdown",
   "id": "ec035031",
   "metadata": {},
   "source": [
    "### 2. Data Overview"
   ]
  },
  {
   "cell_type": "code",
   "execution_count": 2,
   "id": "d2a7c7da",
   "metadata": {},
   "outputs": [
    {
     "name": "stderr",
     "output_type": "stream",
     "text": [
      "C:\\Users\\zhangr2\\AppData\\Local\\Temp/ipykernel_21608/2880190962.py:2: DtypeWarning: Columns (4,5) have mixed types. Specify dtype option on import or set low_memory=False.\n",
      "  df = pd.read_csv(\"KSI-master/NOTEEVENTS.csv\")\n"
     ]
    }
   ],
   "source": [
    "import pandas as pd\n",
    "df = pd.read_csv(\"KSI-master/NOTEEVENTS.csv\")"
   ]
  },
  {
   "cell_type": "code",
   "execution_count": 5,
   "id": "994eef13",
   "metadata": {},
   "outputs": [],
   "source": [
    "subset_df = df.head(10000)\n",
    "subset_df.to_csv('KSI-master/NOTEEVENTS_Partial.csv', index=False)"
   ]
  },
  {
   "cell_type": "code",
   "execution_count": null,
   "id": "49ad7c83",
   "metadata": {},
   "outputs": [],
   "source": []
  }
 ],
 "metadata": {
  "kernelspec": {
   "display_name": "Python 3 (ipykernel)",
   "language": "python",
   "name": "python3"
  },
  "language_info": {
   "codemirror_mode": {
    "name": "ipython",
    "version": 3
   },
   "file_extension": ".py",
   "mimetype": "text/x-python",
   "name": "python",
   "nbconvert_exporter": "python",
   "pygments_lexer": "ipython3",
   "version": "3.9.7"
  }
 },
 "nbformat": 4,
 "nbformat_minor": 5
}
